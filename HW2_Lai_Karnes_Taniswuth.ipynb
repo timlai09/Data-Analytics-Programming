{
 "cells": [
  {
   "cell_type": "markdown",
   "metadata": {},
   "source": [
    "## Homework 2\n",
    "### Student Group 18 - Timothy Lai, McKenna Karnes, Korawat Tanwisuth\n",
    "\n",
    "### NYC Restaurants"
   ]
  },
  {
   "cell_type": "code",
   "execution_count": 1,
   "metadata": {
    "collapsed": true
   },
   "outputs": [],
   "source": [
    "from pandas import Series, DataFrame\n",
    "import pandas as pd\n",
    "\n",
    "df = pd.read_csv('NYC_Restaurants.csv', dtype=unicode)"
   ]
  },
  {
   "cell_type": "markdown",
   "metadata": {},
   "source": [
    "### [Q1] Creating a unique name for each restaurant\n",
    "- Add a column name 'RESTAURANT' then combine strings for DBA, BUILDING, STREET, ZIPCODE\n",
    "- Print the first 10 values"
   ]
  },
  {
   "cell_type": "code",
   "execution_count": 2,
   "metadata": {},
   "outputs": [
    {
     "data": {
      "text/plain": [
       "0                    WENDY'S 469 FLATBUSH AVENUE 11225\n",
       "1                    WENDY'S 469 FLATBUSH AVENUE 11225\n",
       "2                    WENDY'S 469 FLATBUSH AVENUE 11225\n",
       "3                    WENDY'S 469 FLATBUSH AVENUE 11225\n",
       "4                    WENDY'S 469 FLATBUSH AVENUE 11225\n",
       "5               TOV KOSHER KITCHEN 97-22 63 ROAD 11374\n",
       "6               TOV KOSHER KITCHEN 97-22 63 ROAD 11374\n",
       "7               TOV KOSHER KITCHEN 97-22 63 ROAD 11374\n",
       "8               TOV KOSHER KITCHEN 97-22 63 ROAD 11374\n",
       "9    BRUNOS ON THE BOULEVARD 8825 ASTORIA BOULEVARD...\n",
       "Name: RESTAURANT, dtype: object"
      ]
     },
     "execution_count": 2,
     "metadata": {},
     "output_type": "execute_result"
    }
   ],
   "source": [
    "df['RESTAURANT'] = df['DBA'] + \" \" + df['BUILDING'] + \" \" + df['STREET'] + \" \" + df['ZIPCODE']\n",
    "df['RESTAURANT'][:10]"
   ]
  },
  {
   "cell_type": "markdown",
   "metadata": {},
   "source": [
    "### [Q2] How many restaurants are included in the data?\n",
    "- Drop duplicates (i.e. rows of same restaurant with multiple violations)\n",
    "- Use len() function to determine how many total restaurants"
   ]
  },
  {
   "cell_type": "code",
   "execution_count": 3,
   "metadata": {},
   "outputs": [
    {
     "name": "stdout",
     "output_type": "stream",
     "text": [
      "Number of Restaurants =  10114\n"
     ]
    }
   ],
   "source": [
    "restaurants_df = df.drop_duplicates(subset=['RESTAURANT'])\n",
    "print \"Number of Restaurants = \", len(restaurants_df)"
   ]
  },
  {
   "cell_type": "markdown",
   "metadata": {},
   "source": [
    "### [Q3] How many chains are there?\n",
    "\n",
    "- Use \"value_counts\" to determine number of unique restaurants\n",
    "- Use mask to filter for no. of restaurants that appear two or more times"
   ]
  },
  {
   "cell_type": "code",
   "execution_count": 4,
   "metadata": {},
   "outputs": [
    {
     "name": "stdout",
     "output_type": "stream",
     "text": [
      "Number of Chains =  368\n"
     ]
    }
   ],
   "source": [
    "num_rest = restaurants_df['DBA'].value_counts()\n",
    "num_chains = num_rest[num_rest >= 2]\n",
    "print \"Number of Chains = \", len(num_chains)"
   ]
  },
  {
   "cell_type": "markdown",
   "metadata": {},
   "source": [
    "### [Q4] Plot a bar graph of the top 20 most popular chains.\n",
    "- Add %pylab inline to call \"plot\" function\n",
    "- Use plot function to plot bar graph"
   ]
  },
  {
   "cell_type": "code",
   "execution_count": 5,
   "metadata": {},
   "outputs": [
    {
     "name": "stdout",
     "output_type": "stream",
     "text": [
      "Populating the interactive namespace from numpy and matplotlib\n"
     ]
    },
    {
     "data": {
      "text/plain": [
       "<matplotlib.axes._subplots.AxesSubplot at 0x1112c5e50>"
      ]
     },
     "execution_count": 5,
     "metadata": {},
     "output_type": "execute_result"
    },
    {
     "data": {
      "image/png": "[encoded data removed]",
      "text/plain": [
       "<matplotlib.figure.Figure at 0x1112c5610>"
      ]
     },
     "metadata": {},
     "output_type": "display_data"
    }
   ],
   "source": [
    "%pylab inline\n",
    "\n",
    "top_20_chains = num_chains[:20]\n",
    "top_20_chains.plot(kind='bar')"
   ]
  },
  {
   "cell_type": "markdown",
   "metadata": {},
   "source": [
    "### [Q5] What fraction of all restaurants are chains?\n",
    "- Divide the total number of chains by total number of restaurants. Use \"float\" to ensure we get a fraction."
   ]
  },
  {
   "cell_type": "code",
   "execution_count": 6,
   "metadata": {
    "scrolled": false
   },
   "outputs": [
    {
     "name": "stdout",
     "output_type": "stream",
     "text": [
      "The fraction of all restaurants that are chains is: 0.164722167293\n"
     ]
    }
   ],
   "source": [
    "non_chains = num_rest[num_rest < 2]\n",
    "chains = len(restaurants_df)-len(non_chains)\n",
    "frac_chains = float(chains)/len(restaurants_df)\n",
    "print \"The fraction of all restaurants that are chains is:\", frac_chains"
   ]
  },
  {
   "cell_type": "markdown",
   "metadata": {},
   "source": [
    "### [Q6] Plot the number of non-chain restaurants in each boro.\n",
    "\n",
    "- Create list of only names of non-chain restaurants\n",
    "- Cross reference original unique restaurant df for non-chain restaurants\n",
    "- Drop \"Missing\" boro's from value_counts()"
   ]
  },
  {
   "cell_type": "code",
   "execution_count": 7,
   "metadata": {},
   "outputs": [
    {
     "data": {
      "text/plain": [
       "<matplotlib.axes._subplots.AxesSubplot at 0x11170ed90>"
      ]
     },
     "execution_count": 7,
     "metadata": {},
     "output_type": "execute_result"
    },
    {
     "data": {
      "image/png": "[encoded data removed]",
      "text/plain": [
       "<matplotlib.figure.Figure at 0x106cba790>"
      ]
     },
     "metadata": {},
     "output_type": "display_data"
    }
   ],
   "source": [
    "non_chains = num_rest[num_rest < 2]\n",
    "non_chain_names = non_chains.index.values\n",
    "rest_boro = restaurants_df[restaurants_df['DBA'].isin(non_chain_names)]\n",
    "rest_boro['BORO'].value_counts().drop(\"Missing\").plot(kind='bar')\n",
    "\n",
    "\n"
   ]
  },
  {
   "cell_type": "markdown",
   "metadata": {},
   "source": [
    "### [Q7] Plot the fraction of non-chain restaurants in each boro.\n",
    "\n",
    "- Set variables for total non-chain restaurants in each boro and total restaurants in each boro.\n",
    "- Plot variables against each other.\n",
    "\n",
    "We see that the boro with the most independent restaurants (Manhattan) is NOT the boro with the highest ratio of independent restaurants (Brooklyn)."
   ]
  },
  {
   "cell_type": "code",
   "execution_count": 8,
   "metadata": {},
   "outputs": [
    {
     "data": {
      "text/plain": [
       "<matplotlib.axes._subplots.AxesSubplot at 0x1116d8ed0>"
      ]
     },
     "execution_count": 8,
     "metadata": {},
     "output_type": "execute_result"
    },
    {
     "data": {
      "image/png": "[encoded data removed]",
      "text/plain": [
       "<matplotlib.figure.Figure at 0x111831850>"
      ]
     },
     "metadata": {},
     "output_type": "display_data"
    }
   ],
   "source": [
    "total_nonchain_per_boro = rest_boro['BORO'].value_counts().drop(\"Missing\")\n",
    "total_rest_per_boro = restaurants_df['BORO'].value_counts().drop(\"Missing\")\n",
    "(total_nonchain_per_boro/total_rest_per_boro).plot(\"bar\")"
   ]
  },
  {
   "cell_type": "markdown",
   "metadata": {},
   "source": [
    "### [Q8] Plot the popularity of cuisines.\n",
    "\n",
    "- Get subset of data frame for Restaurant, Cuisine Description.\n",
    "- Identify top 20 cuisines with value_counts(), then plot."
   ]
  },
  {
   "cell_type": "code",
   "execution_count": 9,
   "metadata": {},
   "outputs": [
    {
     "data": {
      "text/plain": [
       "<matplotlib.axes._subplots.AxesSubplot at 0x1116cefd0>"
      ]
     },
     "execution_count": 9,
     "metadata": {},
     "output_type": "execute_result"
    },
    {
     "data": {
      "image/png": "[encoded data removed]",
      "text/plain": [
       "<matplotlib.figure.Figure at 0x114c53cd0>"
      ]
     },
     "metadata": {},
     "output_type": "display_data"
    }
   ],
   "source": [
    "cuisines_df = df.drop_duplicates(subset=['RESTAURANT', 'CUISINE DESCRIPTION'])\n",
    "top_20_cuisines = cuisines_df['CUISINE DESCRIPTION'].value_counts()[:20]\n",
    "top_20_cuisines.plot(kind='bar')"
   ]
  },
  {
   "cell_type": "markdown",
   "metadata": {},
   "source": [
    "### [Q9] Plot the cuisines among restaurants which never got cited for violations.\n",
    "\n",
    "- Identify \"clean\" restaurants by searching for nulls in \"VIOLATION CODE\" column.\n",
    "- Cross reference those restaurants to make sure they didn't have past violations. Create another mask for \"unique\" clean restaurants.\n",
    "- Identify top 20 \"unique clean\" cuisines with value_counts(), then plot."
   ]
  },
  {
   "cell_type": "code",
   "execution_count": 10,
   "metadata": {},
   "outputs": [
    {
     "name": "stdout",
     "output_type": "stream",
     "text": [
      "American                                                            49\n",
      "Chinese                                                             42\n",
      "Café/Coffee/Tea                                                     14\n",
      "Pizza                                                               11\n",
      "Italian                                                             10\n",
      "Latin (Cuban, Dominican, Puerto Rican, South & Central American)    10\n",
      "Spanish                                                              8\n",
      "Japanese                                                             8\n",
      "Bakery                                                               7\n",
      "Other                                                                6\n",
      "Asian                                                                6\n",
      "Donuts                                                               5\n",
      "Delicatessen                                                         5\n",
      "French                                                               4\n",
      "Thai                                                                 4\n",
      "Sandwiches                                                           3\n",
      "Korean                                                               3\n",
      "Hamburgers                                                           3\n",
      "Sandwiches/Salads/Mixed Buffet                                       3\n",
      "Mexican                                                              3\n",
      "Name: CUISINE DESCRIPTION, dtype: int64\n"
     ]
    },
    {
     "data": {
      "text/plain": [
       "<matplotlib.axes._subplots.AxesSubplot at 0x111769e50>"
      ]
     },
     "execution_count": 10,
     "metadata": {},
     "output_type": "execute_result"
    },
    {
     "data": {
      "image/png": "[encoded data removed]",
      "text/plain": [
       "<matplotlib.figure.Figure at 0x114f69d10>"
      ]
     },
     "metadata": {},
     "output_type": "display_data"
    }
   ],
   "source": [
    "rest_by_cuisine = df[['CUISINE DESCRIPTION', 'VIOLATION CODE', 'RESTAURANT']].drop_duplicates()\n",
    "\n",
    "clean_rest_mask = rest_by_cuisine['VIOLATION CODE'].isnull()\n",
    "clean_rest = rest_by_cuisine[clean_rest_mask]\n",
    "\n",
    "dirty_rest_mask = rest_by_cuisine['VIOLATION CODE'].notnull()\n",
    "dirty_rest = rest_by_cuisine[dirty_rest_mask]\n",
    "\n",
    "non_unique_clean = clean_rest['RESTAURANT'].isin(dirty_rest['RESTAURANT'])\n",
    "unique_clean_df = clean_rest[~non_unique_clean]\n",
    "\n",
    "top_20_clean_cuisines = unique_clean_df['CUISINE DESCRIPTION'].value_counts()[:20]\n",
    "print top_20_clean_cuisines\n",
    "top_20_clean_cuisines.plot(kind=\"bar\")"
   ]
  },
  {
   "cell_type": "markdown",
   "metadata": {},
   "source": [
    "### [Q10] What cuisines tend to be the \"cleanest\"?\n",
    "\n",
    "- Filter for cuisines that have at least 20 restaurants.\n",
    "- Identify top 20 \"unique clean\" cuisines with value_counts(), then list ratios in descending order."
   ]
  },
  {
   "cell_type": "code",
   "execution_count": 11,
   "metadata": {},
   "outputs": [
    {
     "data": {
      "text/plain": [
       "Soul Food                        0.090909\n",
       "Vietnamese/Cambodian/Malaysia    0.062500\n",
       "Other                            0.058252\n",
       "Soups & Sandwiches               0.047619\n",
       "Continental                      0.047619\n",
       "Barbecue                         0.047619\n",
       "Asian                            0.041096\n",
       "Chinese                          0.038251\n",
       "Greek                            0.036364\n",
       "Peruvian                         0.035714\n",
       "Name: CUISINE DESCRIPTION, dtype: float64"
      ]
     },
     "execution_count": 11,
     "metadata": {},
     "output_type": "execute_result"
    }
   ],
   "source": [
    "total_cuisines = cuisines_df['CUISINE DESCRIPTION'].value_counts()\n",
    "atleast_twenty_cuisines = total_cuisines[total_cuisines >= 20]\n",
    "atleast_twenty_cuisines_types = atleast_twenty_cuisines.index.values\n",
    "\n",
    "clean_twenty_cuisines_types = unique_clean_df[unique_clean_df['CUISINE DESCRIPTION'].isin(atleast_twenty_cuisines_types)]\n",
    "clean_twenty_cuisines_count = clean_twenty_cuisines_types['CUISINE DESCRIPTION'].value_counts()\n",
    "\n",
    "clean_ratio = clean_twenty_cuisines_count/total_cuisines\n",
    "clean_ratio.sort_values(ascending = False)[:10]\n"
   ]
  },
  {
   "cell_type": "markdown",
   "metadata": {},
   "source": [
    "### [Q11] What are the most common violations in each borough?\n",
    "\n",
    "- Create a mask to identify boro's - delete \"Missing\" as previously identified\n",
    "- Per crosstab function description, insert \"Violation Description\" as Index and \"Boro\" as Columns.\n",
    "- Then identify the most common violation description for each boro using idxmax()."
   ]
  },
  {
   "cell_type": "code",
   "execution_count": 12,
   "metadata": {},
   "outputs": [
    {
     "data": {
      "text/html": [
       "<div>\n",
       "<style>\n",
       "    .dataframe thead tr:only-child th {\n",
       "        text-align: right;\n",
       "    }\n",
       "\n",
       "    .dataframe thead th {\n",
       "        text-align: left;\n",
       "    }\n",
       "\n",
       "    .dataframe tbody tr th {\n",
       "        vertical-align: top;\n",
       "    }\n",
       "</style>\n",
       "<table border=\"1\" class=\"dataframe\">\n",
       "  <thead>\n",
       "    <tr style=\"text-align: right;\">\n",
       "      <th>BORO</th>\n",
       "      <th>BRONX</th>\n",
       "      <th>BROOKLYN</th>\n",
       "      <th>MANHATTAN</th>\n",
       "      <th>QUEENS</th>\n",
       "      <th>STATEN ISLAND</th>\n",
       "    </tr>\n",
       "    <tr>\n",
       "      <th>VIOLATION DESCRIPTION</th>\n",
       "      <th></th>\n",
       "      <th></th>\n",
       "      <th></th>\n",
       "      <th></th>\n",
       "      <th></th>\n",
       "    </tr>\n",
       "  </thead>\n",
       "  <tbody>\n",
       "    <tr>\n",
       "      <th>\u001aChoking first aid\u001a poster not posted. \u001aAlcohol and pregnancy\u001a warning sign not posted. Resuscitation equipment: exhaled air resuscitation masks (adult &amp; pediatric), latex gloves, sign not posted. Inspection report sign not posted.</th>\n",
       "      <td>12</td>\n",
       "      <td>40</td>\n",
       "      <td>49</td>\n",
       "      <td>29</td>\n",
       "      <td>5</td>\n",
       "    </tr>\n",
       "    <tr>\n",
       "      <th>''''No Smoking\u001a and/or 'Smoking Permitted\u001a sign not conspicuously posted. Health warning not present on 'Smoking Permitted\u001a</th>\n",
       "      <td>1</td>\n",
       "      <td>5</td>\n",
       "      <td>6</td>\n",
       "      <td>4</td>\n",
       "      <td>1</td>\n",
       "    </tr>\n",
       "    <tr>\n",
       "      <th>''''Wash hands\u001a sign not posted at hand wash facility.</th>\n",
       "      <td>21</td>\n",
       "      <td>57</td>\n",
       "      <td>93</td>\n",
       "      <td>60</td>\n",
       "      <td>8</td>\n",
       "    </tr>\n",
       "    <tr>\n",
       "      <th>A food containing artificial trans fat, with 0.5 grams or more of trans fat per serving, is being stored, distributed, held for service, used in preparation of a menu item, or served.</th>\n",
       "      <td>5</td>\n",
       "      <td>12</td>\n",
       "      <td>19</td>\n",
       "      <td>24</td>\n",
       "      <td>3</td>\n",
       "    </tr>\n",
       "    <tr>\n",
       "      <th>Accurate thermometer not provided in refrigerated or hot holding equipment.</th>\n",
       "      <td>21</td>\n",
       "      <td>76</td>\n",
       "      <td>98</td>\n",
       "      <td>92</td>\n",
       "      <td>16</td>\n",
       "    </tr>\n",
       "    <tr>\n",
       "      <th>Appropriately scaled metal stem-type thermometer or thermocouple not provided or used to evaluate temperatures of potentially hazardous foods during cooking, cooling, reheating and holding.</th>\n",
       "      <td>27</td>\n",
       "      <td>120</td>\n",
       "      <td>162</td>\n",
       "      <td>85</td>\n",
       "      <td>17</td>\n",
       "    </tr>\n",
       "    <tr>\n",
       "      <th>Ashtray present in smoke-free area.</th>\n",
       "      <td>4</td>\n",
       "      <td>4</td>\n",
       "      <td>5</td>\n",
       "      <td>8</td>\n",
       "      <td>1</td>\n",
       "    </tr>\n",
       "    <tr>\n",
       "      <th>Bulb not shielded or shatterproof, in areas where there is extreme heat, temperature changes, or where accidental contact may occur.</th>\n",
       "      <td>20</td>\n",
       "      <td>93</td>\n",
       "      <td>168</td>\n",
       "      <td>80</td>\n",
       "      <td>10</td>\n",
       "    </tr>\n",
       "    <tr>\n",
       "      <th>Caloric content not posted on menus, menu boards or food tags, in a food service establishment that is 1 of 15 or more outlets operating the same type of business nationally under common ownership or control, or as a franchise or doing business under the same name, for each menu item that is served in portions, the size and content of which are standardized.</th>\n",
       "      <td>0</td>\n",
       "      <td>4</td>\n",
       "      <td>6</td>\n",
       "      <td>5</td>\n",
       "      <td>1</td>\n",
       "    </tr>\n",
       "    <tr>\n",
       "      <th>Caloric content range (minimum to maximum) not posted on menus and or menu boards for each flavor, variety and size of each menu item that is offered for sale in different flavors, varieties and sizes.</th>\n",
       "      <td>0</td>\n",
       "      <td>0</td>\n",
       "      <td>0</td>\n",
       "      <td>1</td>\n",
       "      <td>0</td>\n",
       "    </tr>\n",
       "    <tr>\n",
       "      <th>Canned food product observed dented and not segregated from other consumable food items.</th>\n",
       "      <td>16</td>\n",
       "      <td>33</td>\n",
       "      <td>76</td>\n",
       "      <td>44</td>\n",
       "      <td>3</td>\n",
       "    </tr>\n",
       "    <tr>\n",
       "      <th>Canned food product observed swollen, leaking or rusted, and not segregated from other consumable food items .</th>\n",
       "      <td>0</td>\n",
       "      <td>2</td>\n",
       "      <td>2</td>\n",
       "      <td>1</td>\n",
       "      <td>0</td>\n",
       "    </tr>\n",
       "    <tr>\n",
       "      <th>Cold food item held above 41º F (smoked fish and reduced oxygen packaged foods above 38 ºF) except during necessary preparation.</th>\n",
       "      <td>168</td>\n",
       "      <td>635</td>\n",
       "      <td>1232</td>\n",
       "      <td>621</td>\n",
       "      <td>118</td>\n",
       "    </tr>\n",
       "    <tr>\n",
       "      <th>Covered garbage receptacle not provided or inadequate, except that garbage receptacle may be uncovered during active use. Garbage storage area not properly constructed or maintained; grinder or compactor dirty.</th>\n",
       "      <td>7</td>\n",
       "      <td>35</td>\n",
       "      <td>65</td>\n",
       "      <td>24</td>\n",
       "      <td>4</td>\n",
       "    </tr>\n",
       "    <tr>\n",
       "      <th>Current letter grade card not posted.</th>\n",
       "      <td>22</td>\n",
       "      <td>61</td>\n",
       "      <td>176</td>\n",
       "      <td>51</td>\n",
       "      <td>15</td>\n",
       "    </tr>\n",
       "    <tr>\n",
       "      <th>Duties of an officer of the Department interfered with or obstructed.</th>\n",
       "      <td>2</td>\n",
       "      <td>3</td>\n",
       "      <td>2</td>\n",
       "      <td>1</td>\n",
       "      <td>0</td>\n",
       "    </tr>\n",
       "    <tr>\n",
       "      <th>Eggs found dirty/cracked; liquid, frozen or powdered eggs not pasteurized.</th>\n",
       "      <td>0</td>\n",
       "      <td>3</td>\n",
       "      <td>4</td>\n",
       "      <td>3</td>\n",
       "      <td>1</td>\n",
       "    </tr>\n",
       "    <tr>\n",
       "      <th>Evidence of mice or live mice present in facility's food and/or non-food areas.</th>\n",
       "      <td>313</td>\n",
       "      <td>937</td>\n",
       "      <td>1228</td>\n",
       "      <td>776</td>\n",
       "      <td>103</td>\n",
       "    </tr>\n",
       "    <tr>\n",
       "      <th>Evidence of rats or live rats present in facility's food and/or non-food areas.</th>\n",
       "      <td>40</td>\n",
       "      <td>93</td>\n",
       "      <td>133</td>\n",
       "      <td>42</td>\n",
       "      <td>4</td>\n",
       "    </tr>\n",
       "    <tr>\n",
       "      <th>Facility not vermin proof. Harborage or conditions conducive to attracting vermin to the premises and/or allowing vermin to exist.</th>\n",
       "      <td>452</td>\n",
       "      <td>1242</td>\n",
       "      <td>1890</td>\n",
       "      <td>1107</td>\n",
       "      <td>128</td>\n",
       "    </tr>\n",
       "    <tr>\n",
       "      <th>Failure to comply with an Order of the Board of Health, Commissioner, or Department.</th>\n",
       "      <td>2</td>\n",
       "      <td>6</td>\n",
       "      <td>8</td>\n",
       "      <td>0</td>\n",
       "      <td>0</td>\n",
       "    </tr>\n",
       "    <tr>\n",
       "      <th>Filth flies or food/refuse/sewage-associated (FRSA) flies present in facility\u001as food and/or non-food areas. Filth flies include house flies, little house flies, blow flies, bottle flies and flesh flies. Food/refuse/sewage-associated flies include fruit flies, drain flies and Phorid flies.</th>\n",
       "      <td>178</td>\n",
       "      <td>392</td>\n",
       "      <td>881</td>\n",
       "      <td>388</td>\n",
       "      <td>46</td>\n",
       "    </tr>\n",
       "    <tr>\n",
       "      <th>Flavored tobacco products sold or offered for sale.</th>\n",
       "      <td>4</td>\n",
       "      <td>6</td>\n",
       "      <td>4</td>\n",
       "      <td>5</td>\n",
       "      <td>0</td>\n",
       "    </tr>\n",
       "    <tr>\n",
       "      <th>Food Protection Certificate not held by supervisor of food operations.</th>\n",
       "      <td>90</td>\n",
       "      <td>238</td>\n",
       "      <td>297</td>\n",
       "      <td>230</td>\n",
       "      <td>33</td>\n",
       "    </tr>\n",
       "    <tr>\n",
       "      <th>Food allergy information poster not conspicuously posted where food is being prepared or processed by food workers.</th>\n",
       "      <td>2</td>\n",
       "      <td>16</td>\n",
       "      <td>14</td>\n",
       "      <td>7</td>\n",
       "      <td>0</td>\n",
       "    </tr>\n",
       "    <tr>\n",
       "      <th>Food allergy information poster not posted in language understood by all food workers.</th>\n",
       "      <td>0</td>\n",
       "      <td>0</td>\n",
       "      <td>2</td>\n",
       "      <td>1</td>\n",
       "      <td>0</td>\n",
       "    </tr>\n",
       "    <tr>\n",
       "      <th>Food contact surface improperly constructed or located. Unacceptable material used.</th>\n",
       "      <td>1</td>\n",
       "      <td>1</td>\n",
       "      <td>3</td>\n",
       "      <td>1</td>\n",
       "      <td>0</td>\n",
       "    </tr>\n",
       "    <tr>\n",
       "      <th>Food contact surface not properly maintained.</th>\n",
       "      <td>42</td>\n",
       "      <td>187</td>\n",
       "      <td>257</td>\n",
       "      <td>126</td>\n",
       "      <td>14</td>\n",
       "    </tr>\n",
       "    <tr>\n",
       "      <th>Food contact surface not properly washed, rinsed and sanitized after each use and following any activity when contamination may have occurred.</th>\n",
       "      <td>156</td>\n",
       "      <td>615</td>\n",
       "      <td>1203</td>\n",
       "      <td>619</td>\n",
       "      <td>119</td>\n",
       "    </tr>\n",
       "    <tr>\n",
       "      <th>Food from unapproved or unknown source or home canned. Reduced oxygen packaged (ROP) fish not frozen before processing; or ROP foods prepared on premises transported to another site.</th>\n",
       "      <td>2</td>\n",
       "      <td>25</td>\n",
       "      <td>22</td>\n",
       "      <td>11</td>\n",
       "      <td>1</td>\n",
       "    </tr>\n",
       "    <tr>\n",
       "      <th>...</th>\n",
       "      <td>...</td>\n",
       "      <td>...</td>\n",
       "      <td>...</td>\n",
       "      <td>...</td>\n",
       "      <td>...</td>\n",
       "    </tr>\n",
       "    <tr>\n",
       "      <th>Non-food contact surface improperly constructed. Unacceptable material used. Non-food contact surface or equipment improperly maintained and/or not properly sealed, raised, spaced or movable to allow accessibility for cleaning on all sides, above and underneath the unit.</th>\n",
       "      <td>500</td>\n",
       "      <td>1485</td>\n",
       "      <td>2417</td>\n",
       "      <td>1416</td>\n",
       "      <td>230</td>\n",
       "    </tr>\n",
       "    <tr>\n",
       "      <th>Notice of the Department of Board of Health mutilated, obstructed, or removed.</th>\n",
       "      <td>0</td>\n",
       "      <td>2</td>\n",
       "      <td>1</td>\n",
       "      <td>0</td>\n",
       "      <td>0</td>\n",
       "    </tr>\n",
       "    <tr>\n",
       "      <th>Nuisance created or allowed to exist. Facility not free from unsafe, hazardous, offensive or annoying conditions.</th>\n",
       "      <td>6</td>\n",
       "      <td>37</td>\n",
       "      <td>63</td>\n",
       "      <td>38</td>\n",
       "      <td>2</td>\n",
       "    </tr>\n",
       "    <tr>\n",
       "      <th>Operator failed to make good faith effort to inform smokers of the Smoke-free Act prohibition of smoking.</th>\n",
       "      <td>5</td>\n",
       "      <td>2</td>\n",
       "      <td>0</td>\n",
       "      <td>4</td>\n",
       "      <td>0</td>\n",
       "    </tr>\n",
       "    <tr>\n",
       "      <th>Original label for tobacco products sold or offered for sale.</th>\n",
       "      <td>0</td>\n",
       "      <td>2</td>\n",
       "      <td>4</td>\n",
       "      <td>3</td>\n",
       "      <td>0</td>\n",
       "    </tr>\n",
       "    <tr>\n",
       "      <th>Out-of package sale of tobacco products observed.</th>\n",
       "      <td>0</td>\n",
       "      <td>0</td>\n",
       "      <td>2</td>\n",
       "      <td>0</td>\n",
       "      <td>0</td>\n",
       "    </tr>\n",
       "    <tr>\n",
       "      <th>Permit not conspicuously displayed.</th>\n",
       "      <td>6</td>\n",
       "      <td>4</td>\n",
       "      <td>22</td>\n",
       "      <td>4</td>\n",
       "      <td>0</td>\n",
       "    </tr>\n",
       "    <tr>\n",
       "      <th>Personal cleanliness inadequate. Outer garment soiled with possible contaminant.  Effective hair restraint not worn in an area where food is prepared.</th>\n",
       "      <td>43</td>\n",
       "      <td>190</td>\n",
       "      <td>309</td>\n",
       "      <td>189</td>\n",
       "      <td>32</td>\n",
       "    </tr>\n",
       "    <tr>\n",
       "      <th>Pesticide use not in accordance with label or applicable laws. Prohibited chemical used/stored. Open bait station used.</th>\n",
       "      <td>41</td>\n",
       "      <td>147</td>\n",
       "      <td>186</td>\n",
       "      <td>140</td>\n",
       "      <td>20</td>\n",
       "    </tr>\n",
       "    <tr>\n",
       "      <th>Plumbing not properly installed or maintained; anti-siphonage or backflow prevention device not provided where required; equipment or floor not properly drained; sewage disposal system in disrepair or not functioning properly.</th>\n",
       "      <td>149</td>\n",
       "      <td>490</td>\n",
       "      <td>861</td>\n",
       "      <td>502</td>\n",
       "      <td>91</td>\n",
       "    </tr>\n",
       "    <tr>\n",
       "      <th>Potable water supply inadequate. Water or ice not potable or from unapproved source.  Cross connection in potable water supply system observed.</th>\n",
       "      <td>0</td>\n",
       "      <td>0</td>\n",
       "      <td>2</td>\n",
       "      <td>0</td>\n",
       "      <td>0</td>\n",
       "    </tr>\n",
       "    <tr>\n",
       "      <th>Precooked potentially hazardous food from commercial food processing establishment that is supposed to be heated, but is not heated to 140º F within 2 hours.</th>\n",
       "      <td>0</td>\n",
       "      <td>5</td>\n",
       "      <td>2</td>\n",
       "      <td>0</td>\n",
       "      <td>0</td>\n",
       "    </tr>\n",
       "    <tr>\n",
       "      <th>Proper sanitization not provided for utensil ware washing operation.</th>\n",
       "      <td>53</td>\n",
       "      <td>154</td>\n",
       "      <td>281</td>\n",
       "      <td>150</td>\n",
       "      <td>22</td>\n",
       "    </tr>\n",
       "    <tr>\n",
       "      <th>ROP processing equipment not approved by DOHMH.</th>\n",
       "      <td>0</td>\n",
       "      <td>1</td>\n",
       "      <td>2</td>\n",
       "      <td>1</td>\n",
       "      <td>0</td>\n",
       "    </tr>\n",
       "    <tr>\n",
       "      <th>Raw food not properly washed prior to serving.</th>\n",
       "      <td>0</td>\n",
       "      <td>0</td>\n",
       "      <td>0</td>\n",
       "      <td>1</td>\n",
       "      <td>0</td>\n",
       "    </tr>\n",
       "    <tr>\n",
       "      <th>Raw, cooked or prepared food is adulterated, contaminated, cross-contaminated, or not discarded in accordance with HACCP plan.</th>\n",
       "      <td>50</td>\n",
       "      <td>218</td>\n",
       "      <td>435</td>\n",
       "      <td>231</td>\n",
       "      <td>36</td>\n",
       "    </tr>\n",
       "    <tr>\n",
       "      <th>Sanitized equipment or utensil, including in-use food dispensing utensil, improperly used or stored.</th>\n",
       "      <td>48</td>\n",
       "      <td>195</td>\n",
       "      <td>410</td>\n",
       "      <td>283</td>\n",
       "      <td>45</td>\n",
       "    </tr>\n",
       "    <tr>\n",
       "      <th>Sewage disposal system improper or unapproved.</th>\n",
       "      <td>1</td>\n",
       "      <td>3</td>\n",
       "      <td>5</td>\n",
       "      <td>4</td>\n",
       "      <td>0</td>\n",
       "    </tr>\n",
       "    <tr>\n",
       "      <th>Shellfish not from approved source, improperly tagged/labeled; tags not retained for 90 days.</th>\n",
       "      <td>0</td>\n",
       "      <td>10</td>\n",
       "      <td>8</td>\n",
       "      <td>9</td>\n",
       "      <td>2</td>\n",
       "    </tr>\n",
       "    <tr>\n",
       "      <th>Single service item reused, improperly stored, dispensed; not used when required.</th>\n",
       "      <td>27</td>\n",
       "      <td>93</td>\n",
       "      <td>149</td>\n",
       "      <td>114</td>\n",
       "      <td>15</td>\n",
       "    </tr>\n",
       "    <tr>\n",
       "      <th>Smoke free workplace smoking policy inadequate, not posted, not provided to employees.</th>\n",
       "      <td>45</td>\n",
       "      <td>222</td>\n",
       "      <td>264</td>\n",
       "      <td>154</td>\n",
       "      <td>22</td>\n",
       "    </tr>\n",
       "    <tr>\n",
       "      <th>Thawing procedures improper.</th>\n",
       "      <td>36</td>\n",
       "      <td>109</td>\n",
       "      <td>151</td>\n",
       "      <td>100</td>\n",
       "      <td>23</td>\n",
       "    </tr>\n",
       "    <tr>\n",
       "      <th>The original nutritional fact labels and/or ingredient label for a cooking oil, shortening or margarine or food item sold in bulk, or acceptable manufacturer\u001as documentation not maintained on site.</th>\n",
       "      <td>48</td>\n",
       "      <td>125</td>\n",
       "      <td>198</td>\n",
       "      <td>151</td>\n",
       "      <td>25</td>\n",
       "    </tr>\n",
       "    <tr>\n",
       "      <th>Tobacco use, eating, or drinking from open container in food preparation, food storage or dishwashing area observed.</th>\n",
       "      <td>22</td>\n",
       "      <td>55</td>\n",
       "      <td>107</td>\n",
       "      <td>64</td>\n",
       "      <td>7</td>\n",
       "    </tr>\n",
       "    <tr>\n",
       "      <th>Toilet facility not maintained and provided with toilet paper, waste receptacle and self-closing door.</th>\n",
       "      <td>46</td>\n",
       "      <td>142</td>\n",
       "      <td>225</td>\n",
       "      <td>134</td>\n",
       "      <td>14</td>\n",
       "    </tr>\n",
       "    <tr>\n",
       "      <th>Toilet facility not provided for employees or for patrons when required.</th>\n",
       "      <td>2</td>\n",
       "      <td>3</td>\n",
       "      <td>11</td>\n",
       "      <td>3</td>\n",
       "      <td>1</td>\n",
       "    </tr>\n",
       "    <tr>\n",
       "      <th>Toilet facility used by women does not have at least one covered garbage receptacle.</th>\n",
       "      <td>1</td>\n",
       "      <td>5</td>\n",
       "      <td>7</td>\n",
       "      <td>2</td>\n",
       "      <td>1</td>\n",
       "    </tr>\n",
       "    <tr>\n",
       "      <th>Toxic chemical improperly labeled, stored or used such that food contamination may occur.</th>\n",
       "      <td>2</td>\n",
       "      <td>8</td>\n",
       "      <td>15</td>\n",
       "      <td>20</td>\n",
       "      <td>3</td>\n",
       "    </tr>\n",
       "    <tr>\n",
       "      <th>Unprotected food re-served.</th>\n",
       "      <td>1</td>\n",
       "      <td>0</td>\n",
       "      <td>1</td>\n",
       "      <td>0</td>\n",
       "      <td>0</td>\n",
       "    </tr>\n",
       "    <tr>\n",
       "      <th>Wiping cloths soiled or not stored in sanitizing solution.</th>\n",
       "      <td>47</td>\n",
       "      <td>198</td>\n",
       "      <td>285</td>\n",
       "      <td>168</td>\n",
       "      <td>25</td>\n",
       "    </tr>\n",
       "  </tbody>\n",
       "</table>\n",
       "<p>82 rows × 5 columns</p>\n",
       "</div>"
      ],
      "text/plain": [
       "BORO                                                BRONX  BROOKLYN  \\\n",
       "VIOLATION DESCRIPTION                                                 \n",
       "\u001aChoking first aid\u001a poster not posted. \u001aAlcohol...     12        40   \n",
       "''''No Smoking\u001a and/or 'Smoking Permitted\u001a sign...      1         5   \n",
       "''''Wash hands\u001a sign not posted at hand wash fa...     21        57   \n",
       "A food containing artificial trans fat, with 0....      5        12   \n",
       "Accurate thermometer not provided in refrigerat...     21        76   \n",
       "Appropriately scaled metal stem-type thermomete...     27       120   \n",
       "Ashtray present in smoke-free area.                     4         4   \n",
       "Bulb not shielded or shatterproof, in areas whe...     20        93   \n",
       "Caloric content not posted on menus, menu board...      0         4   \n",
       "Caloric content range (minimum to maximum) not ...      0         0   \n",
       "Canned food product observed dented and not seg...     16        33   \n",
       "Canned food product observed swollen, leaking o...      0         2   \n",
       "Cold food item held above 41º F (smoked fish an...    168       635   \n",
       "Covered garbage receptacle not provided or inad...      7        35   \n",
       "Current letter grade card not posted.                  22        61   \n",
       "Duties of an officer of the Department interfer...      2         3   \n",
       "Eggs found dirty/cracked; liquid, frozen or pow...      0         3   \n",
       "Evidence of mice or live mice present in facili...    313       937   \n",
       "Evidence of rats or live rats present in facili...     40        93   \n",
       "Facility not vermin proof. Harborage or conditi...    452      1242   \n",
       "Failure to comply with an Order of the Board of...      2         6   \n",
       "Filth flies or food/refuse/sewage-associated (F...    178       392   \n",
       "Flavored tobacco products sold or offered for s...      4         6   \n",
       "Food Protection Certificate not held by supervi...     90       238   \n",
       "Food allergy information poster not conspicuous...      2        16   \n",
       "Food allergy information poster not posted in l...      0         0   \n",
       "Food contact surface improperly constructed or ...      1         1   \n",
       "Food contact surface not properly maintained.          42       187   \n",
       "Food contact surface not properly washed, rinse...    156       615   \n",
       "Food from unapproved or unknown source or home ...      2        25   \n",
       "...                                                   ...       ...   \n",
       "Non-food contact surface improperly constructed...    500      1485   \n",
       "Notice of the Department of Board of Health mut...      0         2   \n",
       "Nuisance created or allowed to exist. Facility ...      6        37   \n",
       "Operator failed to make good faith effort to in...      5         2   \n",
       "Original label for tobacco products sold or off...      0         2   \n",
       "Out-of package sale of tobacco products observed.       0         0   \n",
       "Permit not conspicuously displayed.                     6         4   \n",
       "Personal cleanliness inadequate. Outer garment ...     43       190   \n",
       "Pesticide use not in accordance with label or a...     41       147   \n",
       "Plumbing not properly installed or maintained; ...    149       490   \n",
       "Potable water supply inadequate. Water or ice n...      0         0   \n",
       "Precooked potentially hazardous food from comme...      0         5   \n",
       "Proper sanitization not provided for utensil wa...     53       154   \n",
       "ROP processing equipment not approved by DOHMH.         0         1   \n",
       "Raw food not properly washed prior to serving.          0         0   \n",
       "Raw, cooked or prepared food is adulterated, co...     50       218   \n",
       "Sanitized equipment or utensil, including in-us...     48       195   \n",
       "Sewage disposal system improper or unapproved.          1         3   \n",
       "Shellfish not from approved source, improperly ...      0        10   \n",
       "Single service item reused, improperly stored, ...     27        93   \n",
       "Smoke free workplace smoking policy inadequate,...     45       222   \n",
       "Thawing procedures improper.                           36       109   \n",
       "The original nutritional fact labels and/or ing...     48       125   \n",
       "Tobacco use, eating, or drinking from open cont...     22        55   \n",
       "Toilet facility not maintained and provided wit...     46       142   \n",
       "Toilet facility not provided for employees or f...      2         3   \n",
       "Toilet facility used by women does not have at ...      1         5   \n",
       "Toxic chemical improperly labeled, stored or us...      2         8   \n",
       "Unprotected food re-served.                             1         0   \n",
       "Wiping cloths soiled or not stored in sanitizin...     47       198   \n",
       "\n",
       "BORO                                                MANHATTAN  QUEENS  \\\n",
       "VIOLATION DESCRIPTION                                                   \n",
       "\u001aChoking first aid\u001a poster not posted. \u001aAlcohol...         49      29   \n",
       "''''No Smoking\u001a and/or 'Smoking Permitted\u001a sign...          6       4   \n",
       "''''Wash hands\u001a sign not posted at hand wash fa...         93      60   \n",
       "A food containing artificial trans fat, with 0....         19      24   \n",
       "Accurate thermometer not provided in refrigerat...         98      92   \n",
       "Appropriately scaled metal stem-type thermomete...        162      85   \n",
       "Ashtray present in smoke-free area.                         5       8   \n",
       "Bulb not shielded or shatterproof, in areas whe...        168      80   \n",
       "Caloric content not posted on menus, menu board...          6       5   \n",
       "Caloric content range (minimum to maximum) not ...          0       1   \n",
       "Canned food product observed dented and not seg...         76      44   \n",
       "Canned food product observed swollen, leaking o...          2       1   \n",
       "Cold food item held above 41º F (smoked fish an...       1232     621   \n",
       "Covered garbage receptacle not provided or inad...         65      24   \n",
       "Current letter grade card not posted.                     176      51   \n",
       "Duties of an officer of the Department interfer...          2       1   \n",
       "Eggs found dirty/cracked; liquid, frozen or pow...          4       3   \n",
       "Evidence of mice or live mice present in facili...       1228     776   \n",
       "Evidence of rats or live rats present in facili...        133      42   \n",
       "Facility not vermin proof. Harborage or conditi...       1890    1107   \n",
       "Failure to comply with an Order of the Board of...          8       0   \n",
       "Filth flies or food/refuse/sewage-associated (F...        881     388   \n",
       "Flavored tobacco products sold or offered for s...          4       5   \n",
       "Food Protection Certificate not held by supervi...        297     230   \n",
       "Food allergy information poster not conspicuous...         14       7   \n",
       "Food allergy information poster not posted in l...          2       1   \n",
       "Food contact surface improperly constructed or ...          3       1   \n",
       "Food contact surface not properly maintained.             257     126   \n",
       "Food contact surface not properly washed, rinse...       1203     619   \n",
       "Food from unapproved or unknown source or home ...         22      11   \n",
       "...                                                       ...     ...   \n",
       "Non-food contact surface improperly constructed...       2417    1416   \n",
       "Notice of the Department of Board of Health mut...          1       0   \n",
       "Nuisance created or allowed to exist. Facility ...         63      38   \n",
       "Operator failed to make good faith effort to in...          0       4   \n",
       "Original label for tobacco products sold or off...          4       3   \n",
       "Out-of package sale of tobacco products observed.           2       0   \n",
       "Permit not conspicuously displayed.                        22       4   \n",
       "Personal cleanliness inadequate. Outer garment ...        309     189   \n",
       "Pesticide use not in accordance with label or a...        186     140   \n",
       "Plumbing not properly installed or maintained; ...        861     502   \n",
       "Potable water supply inadequate. Water or ice n...          2       0   \n",
       "Precooked potentially hazardous food from comme...          2       0   \n",
       "Proper sanitization not provided for utensil wa...        281     150   \n",
       "ROP processing equipment not approved by DOHMH.             2       1   \n",
       "Raw food not properly washed prior to serving.              0       1   \n",
       "Raw, cooked or prepared food is adulterated, co...        435     231   \n",
       "Sanitized equipment or utensil, including in-us...        410     283   \n",
       "Sewage disposal system improper or unapproved.              5       4   \n",
       "Shellfish not from approved source, improperly ...          8       9   \n",
       "Single service item reused, improperly stored, ...        149     114   \n",
       "Smoke free workplace smoking policy inadequate,...        264     154   \n",
       "Thawing procedures improper.                              151     100   \n",
       "The original nutritional fact labels and/or ing...        198     151   \n",
       "Tobacco use, eating, or drinking from open cont...        107      64   \n",
       "Toilet facility not maintained and provided wit...        225     134   \n",
       "Toilet facility not provided for employees or f...         11       3   \n",
       "Toilet facility used by women does not have at ...          7       2   \n",
       "Toxic chemical improperly labeled, stored or us...         15      20   \n",
       "Unprotected food re-served.                                 1       0   \n",
       "Wiping cloths soiled or not stored in sanitizin...        285     168   \n",
       "\n",
       "BORO                                                STATEN ISLAND  \n",
       "VIOLATION DESCRIPTION                                              \n",
       "\u001aChoking first aid\u001a poster not posted. \u001aAlcohol...              5  \n",
       "''''No Smoking\u001a and/or 'Smoking Permitted\u001a sign...              1  \n",
       "''''Wash hands\u001a sign not posted at hand wash fa...              8  \n",
       "A food containing artificial trans fat, with 0....              3  \n",
       "Accurate thermometer not provided in refrigerat...             16  \n",
       "Appropriately scaled metal stem-type thermomete...             17  \n",
       "Ashtray present in smoke-free area.                             1  \n",
       "Bulb not shielded or shatterproof, in areas whe...             10  \n",
       "Caloric content not posted on menus, menu board...              1  \n",
       "Caloric content range (minimum to maximum) not ...              0  \n",
       "Canned food product observed dented and not seg...              3  \n",
       "Canned food product observed swollen, leaking o...              0  \n",
       "Cold food item held above 41º F (smoked fish an...            118  \n",
       "Covered garbage receptacle not provided or inad...              4  \n",
       "Current letter grade card not posted.                          15  \n",
       "Duties of an officer of the Department interfer...              0  \n",
       "Eggs found dirty/cracked; liquid, frozen or pow...              1  \n",
       "Evidence of mice or live mice present in facili...            103  \n",
       "Evidence of rats or live rats present in facili...              4  \n",
       "Facility not vermin proof. Harborage or conditi...            128  \n",
       "Failure to comply with an Order of the Board of...              0  \n",
       "Filth flies or food/refuse/sewage-associated (F...             46  \n",
       "Flavored tobacco products sold or offered for s...              0  \n",
       "Food Protection Certificate not held by supervi...             33  \n",
       "Food allergy information poster not conspicuous...              0  \n",
       "Food allergy information poster not posted in l...              0  \n",
       "Food contact surface improperly constructed or ...              0  \n",
       "Food contact surface not properly maintained.                  14  \n",
       "Food contact surface not properly washed, rinse...            119  \n",
       "Food from unapproved or unknown source or home ...              1  \n",
       "...                                                           ...  \n",
       "Non-food contact surface improperly constructed...            230  \n",
       "Notice of the Department of Board of Health mut...              0  \n",
       "Nuisance created or allowed to exist. Facility ...              2  \n",
       "Operator failed to make good faith effort to in...              0  \n",
       "Original label for tobacco products sold or off...              0  \n",
       "Out-of package sale of tobacco products observed.               0  \n",
       "Permit not conspicuously displayed.                             0  \n",
       "Personal cleanliness inadequate. Outer garment ...             32  \n",
       "Pesticide use not in accordance with label or a...             20  \n",
       "Plumbing not properly installed or maintained; ...             91  \n",
       "Potable water supply inadequate. Water or ice n...              0  \n",
       "Precooked potentially hazardous food from comme...              0  \n",
       "Proper sanitization not provided for utensil wa...             22  \n",
       "ROP processing equipment not approved by DOHMH.                 0  \n",
       "Raw food not properly washed prior to serving.                  0  \n",
       "Raw, cooked or prepared food is adulterated, co...             36  \n",
       "Sanitized equipment or utensil, including in-us...             45  \n",
       "Sewage disposal system improper or unapproved.                  0  \n",
       "Shellfish not from approved source, improperly ...              2  \n",
       "Single service item reused, improperly stored, ...             15  \n",
       "Smoke free workplace smoking policy inadequate,...             22  \n",
       "Thawing procedures improper.                                   23  \n",
       "The original nutritional fact labels and/or ing...             25  \n",
       "Tobacco use, eating, or drinking from open cont...              7  \n",
       "Toilet facility not maintained and provided wit...             14  \n",
       "Toilet facility not provided for employees or f...              1  \n",
       "Toilet facility used by women does not have at ...              1  \n",
       "Toxic chemical improperly labeled, stored or us...              3  \n",
       "Unprotected food re-served.                                     0  \n",
       "Wiping cloths soiled or not stored in sanitizin...             25  \n",
       "\n",
       "[82 rows x 5 columns]"
      ]
     },
     "execution_count": 12,
     "metadata": {},
     "output_type": "execute_result"
    }
   ],
   "source": [
    "boro_df_mask = df['BORO'] != \"Missing\"\n",
    "\n",
    "cross_tab = pd.crosstab(df['VIOLATION DESCRIPTION'][boro_df_mask], df['BORO'][boro_df_mask])\n",
    "cross_tab"
   ]
  },
  {
   "cell_type": "code",
   "execution_count": 13,
   "metadata": {},
   "outputs": [
    {
     "data": {
      "text/plain": [
       "BORO\n",
       "BRONX            Non-food contact surface improperly constructe...\n",
       "BROOKLYN         Non-food contact surface improperly constructe...\n",
       "MANHATTAN        Non-food contact surface improperly constructe...\n",
       "QUEENS           Non-food contact surface improperly constructe...\n",
       "STATEN ISLAND    Non-food contact surface improperly constructe...\n",
       "dtype: object"
      ]
     },
     "execution_count": 13,
     "metadata": {},
     "output_type": "execute_result"
    }
   ],
   "source": [
    "cross_tab.idxmax()"
   ]
  },
  {
   "cell_type": "markdown",
   "metadata": {},
   "source": [
    "### [Q12] What are the most common violations per borough, after normalizing for the relative abundance of each violation?\n",
    "\n",
    "- Create a variable \"violationFrequency\" to count how common each violation is - sorted by index.\n",
    "- Transpose cross_tab to match indices, then normalize counts.\n",
    "- Use idxmax() to identify most common violation descriptions for each boro."
   ]
  },
  {
   "cell_type": "code",
   "execution_count": 18,
   "metadata": {},
   "outputs": [
    {
     "data": {
      "text/plain": [
       "\u001aChoking first aid\u001a poster not posted. \u001aAlcohol and pregnancy\u001a warning sign not posted. Resuscitation equipment: exhaled air resuscitation masks (adult & pediatric), latex gloves, sign not posted. Inspection report sign not posted.                                                                                                                                      135\n",
       "''''No Smoking\u001a and/or 'Smoking Permitted\u001a sign not conspicuously posted. Health warning not present on 'Smoking Permitted\u001a                                                                                                                                                                                                                                                   17\n",
       "''''Wash hands\u001a sign not posted at hand wash facility.                                                                                                                                                                                                                                                                                                                       239\n",
       "A food containing artificial trans fat, with 0.5 grams or more of trans fat per serving, is being stored, distributed, held for service, used in preparation of a menu item, or served.                                                                                                                                                                                       63\n",
       "Accurate thermometer not provided in refrigerated or hot holding equipment.                                                                                                                                                                                                                                                                                                  303\n",
       "Appropriately scaled metal stem-type thermometer or thermocouple not provided or used to evaluate temperatures of potentially hazardous foods during cooking, cooling, reheating and holding.                                                                                                                                                                                411\n",
       "Ashtray present in smoke-free area.                                                                                                                                                                                                                                                                                                                                           22\n",
       "Bulb not shielded or shatterproof, in areas where there is extreme heat, temperature changes, or where accidental contact may occur.                                                                                                                                                                                                                                         371\n",
       "Caloric content not posted on menus, menu boards or food tags, in a food service establishment that is 1 of 15 or more outlets operating the same type of business nationally under common ownership or control, or as a franchise or doing business under the same name, for each menu item that is served in portions, the size and content of which are standardized.      16\n",
       "Caloric content range (minimum to maximum) not posted on menus and or menu boards for each flavor, variety and size of each menu item that is offered for sale in different flavors, varieties and sizes.                                                                                                                                                                      1\n",
       "Canned food product observed dented and not segregated from other consumable food items.                                                                                                                                                                                                                                                                                     172\n",
       "Canned food product observed swollen, leaking or rusted, and not segregated from other consumable food items .                                                                                                                                                                                                                                                                 5\n",
       "Cold food item held above 41º F (smoked fish and reduced oxygen packaged foods above 38 ºF) except during necessary preparation.                                                                                                                                                                                                                                            2774\n",
       "Covered garbage receptacle not provided or inadequate, except that garbage receptacle may be uncovered during active use. Garbage storage area not properly constructed or maintained; grinder or compactor dirty.                                                                                                                                                           135\n",
       "Current letter grade card not posted.                                                                                                                                                                                                                                                                                                                                        325\n",
       "Duties of an officer of the Department interfered with or obstructed.                                                                                                                                                                                                                                                                                                          8\n",
       "Eggs found dirty/cracked; liquid, frozen or powdered eggs not pasteurized.                                                                                                                                                                                                                                                                                                    11\n",
       "Evidence of mice or live mice present in facility's food and/or non-food areas.                                                                                                                                                                                                                                                                                             3357\n",
       "Evidence of rats or live rats present in facility's food and/or non-food areas.                                                                                                                                                                                                                                                                                              312\n",
       "Facility not vermin proof. Harborage or conditions conducive to attracting vermin to the premises and/or allowing vermin to exist.                                                                                                                                                                                                                                          4819\n",
       "Failure to comply with an Order of the Board of Health, Commissioner, or Department.                                                                                                                                                                                                                                                                                          16\n",
       "Filth flies or food/refuse/sewage-associated (FRSA) flies present in facility\u001as food and/or non-food areas. Filth flies include house flies, little house flies, blow flies, bottle flies and flesh flies. Food/refuse/sewage-associated flies include fruit flies, drain flies and Phorid flies.                                                                           1885\n",
       "Flavored tobacco products sold or offered for sale.                                                                                                                                                                                                                                                                                                                           19\n",
       "Food Protection Certificate not held by supervisor of food operations.                                                                                                                                                                                                                                                                                                       888\n",
       "Food allergy information poster not conspicuously posted where food is being prepared or processed by food workers.                                                                                                                                                                                                                                                           39\n",
       "Food allergy information poster not posted in language understood by all food workers.                                                                                                                                                                                                                                                                                         3\n",
       "Food contact surface improperly constructed or located. Unacceptable material used.                                                                                                                                                                                                                                                                                            6\n",
       "Food contact surface not properly maintained.                                                                                                                                                                                                                                                                                                                                626\n",
       "Food contact surface not properly washed, rinsed and sanitized after each use and following any activity when contamination may have occurred.                                                                                                                                                                                                                              2712\n",
       "Food from unapproved or unknown source or home canned. Reduced oxygen packaged (ROP) fish not frozen before processing; or ROP foods prepared on premises transported to another site.                                                                                                                                                                                        61\n",
       "                                                                                                                                                                                                                                                                                                                                                                            ... \n",
       "Non-food contact surface improperly constructed. Unacceptable material used. Non-food contact surface or equipment improperly maintained and/or not properly sealed, raised, spaced or movable to allow accessibility for cleaning on all sides, above and underneath the unit.                                                                                             6048\n",
       "Notice of the Department of Board of Health mutilated, obstructed, or removed.                                                                                                                                                                                                                                                                                                 3\n",
       "Nuisance created or allowed to exist. Facility not free from unsafe, hazardous, offensive or annoying conditions.                                                                                                                                                                                                                                                            146\n",
       "Operator failed to make good faith effort to inform smokers of the Smoke-free Act prohibition of smoking.                                                                                                                                                                                                                                                                     11\n",
       "Original label for tobacco products sold or offered for sale.                                                                                                                                                                                                                                                                                                                  9\n",
       "Out-of package sale of tobacco products observed.                                                                                                                                                                                                                                                                                                                              2\n",
       "Permit not conspicuously displayed.                                                                                                                                                                                                                                                                                                                                           36\n",
       "Personal cleanliness inadequate. Outer garment soiled with possible contaminant.  Effective hair restraint not worn in an area where food is prepared.                                                                                                                                                                                                                       763\n",
       "Pesticide use not in accordance with label or applicable laws. Prohibited chemical used/stored. Open bait station used.                                                                                                                                                                                                                                                      534\n",
       "Plumbing not properly installed or maintained; anti-siphonage or backflow prevention device not provided where required; equipment or floor not properly drained; sewage disposal system in disrepair or not functioning properly.                                                                                                                                          2093\n",
       "Potable water supply inadequate. Water or ice not potable or from unapproved source.  Cross connection in potable water supply system observed.                                                                                                                                                                                                                                2\n",
       "Precooked potentially hazardous food from commercial food processing establishment that is supposed to be heated, but is not heated to 140º F within 2 hours.                                                                                                                                                                                                                  7\n",
       "Proper sanitization not provided for utensil ware washing operation.                                                                                                                                                                                                                                                                                                         660\n",
       "ROP processing equipment not approved by DOHMH.                                                                                                                                                                                                                                                                                                                                4\n",
       "Raw food not properly washed prior to serving.                                                                                                                                                                                                                                                                                                                                 1\n",
       "Raw, cooked or prepared food is adulterated, contaminated, cross-contaminated, or not discarded in accordance with HACCP plan.                                                                                                                                                                                                                                               970\n",
       "Sanitized equipment or utensil, including in-use food dispensing utensil, improperly used or stored.                                                                                                                                                                                                                                                                         981\n",
       "Sewage disposal system improper or unapproved.                                                                                                                                                                                                                                                                                                                                13\n",
       "Shellfish not from approved source, improperly tagged/labeled; tags not retained for 90 days.                                                                                                                                                                                                                                                                                 29\n",
       "Single service item reused, improperly stored, dispensed; not used when required.                                                                                                                                                                                                                                                                                            398\n",
       "Smoke free workplace smoking policy inadequate, not posted, not provided to employees.                                                                                                                                                                                                                                                                                       707\n",
       "Thawing procedures improper.                                                                                                                                                                                                                                                                                                                                                 419\n",
       "The original nutritional fact labels and/or ingredient label for a cooking oil, shortening or margarine or food item sold in bulk, or acceptable manufacturer\u001as documentation not maintained on site.                                                                                                                                                                        547\n",
       "Tobacco use, eating, or drinking from open container in food preparation, food storage or dishwashing area observed.                                                                                                                                                                                                                                                         255\n",
       "Toilet facility not maintained and provided with toilet paper, waste receptacle and self-closing door.                                                                                                                                                                                                                                                                       561\n",
       "Toilet facility not provided for employees or for patrons when required.                                                                                                                                                                                                                                                                                                      20\n",
       "Toilet facility used by women does not have at least one covered garbage receptacle.                                                                                                                                                                                                                                                                                          16\n",
       "Toxic chemical improperly labeled, stored or used such that food contamination may occur.                                                                                                                                                                                                                                                                                     48\n",
       "Unprotected food re-served.                                                                                                                                                                                                                                                                                                                                                    2\n",
       "Wiping cloths soiled or not stored in sanitizing solution.                                                                                                                                                                                                                                                                                                                   723\n",
       "Name: VIOLATION DESCRIPTION, Length: 82, dtype: int64"
      ]
     },
     "execution_count": 18,
     "metadata": {},
     "output_type": "execute_result"
    }
   ],
   "source": [
    "violationFrequency = df['VIOLATION DESCRIPTION'][boro_df_mask].value_counts().sort_index()\n",
    "cross_tab_tp = cross_tab.T.sort_index()\n",
    "cros\n",
    "#norm_violations = cross_tab_tp/violationFrequency\n",
    "#norm_violations.T.idxmax()"
   ]
  },
  {
   "cell_type": "markdown",
   "metadata": {
    "collapsed": true
   },
   "source": [
    "### [Q13] How many phone area codes correspond to a single zipcode?\n",
    "\n",
    "- Mask for the first three digits of phone number (area code) by splitting the string.\n",
    "- Check value counts for zip codes/area codes that only appear once."
   ]
  },
  {
   "cell_type": "code",
   "execution_count": 15,
   "metadata": {
    "scrolled": true
   },
   "outputs": [
    {
     "name": "stdout",
     "output_type": "stream",
     "text": [
      "The number of phone area codes that correspond to a single zipcode is: 34\n"
     ]
    }
   ],
   "source": [
    "df['AREA CODE'] = df['PHONE'].str[:3]\n",
    "df_zip_area = df[['ZIPCODE', 'AREA CODE']].drop_duplicates()\n",
    "print \"The number of phone area codes that correspond to a single zipcode is:\", sum(df_zip_area['AREA CODE'].value_counts() == 1)\n"
   ]
  },
  {
   "cell_type": "markdown",
   "metadata": {},
   "source": [
    "### [Q14] Find common misspellings of common street names\n",
    "- Create a new data frame column called \"STREET TYPE\", which includes the last word in the name of the streets.\n",
    "- Create a new data frame column called \"STREET BASE\", which includes everything but the last word in the name of the street.\n",
    "- Create a new data frame column called \"STREET BASE & ZIP\", which combines the street base and zipcode.\n",
    "- Extract these columns of the data frame, and drop duplicates and empties for street name - this gives us unique street names only.\n",
    "- Merge this new data frame table with itself - that way we can see which rows have different street types.\n",
    "- Create a cross-tab with the two distinct street types (x and y by default).\n",
    "- Find the most common street types via idxmax() and the number of times they are in the data frame by max()."
   ]
  },
  {
   "cell_type": "code",
   "execution_count": 16,
   "metadata": {},
   "outputs": [
    {
     "name": "stdout",
     "output_type": "stream",
     "text": [
      "The most common street types and the number of times they are misspelled are shown in the data frame below.\n"
     ]
    },
    {
     "data": {
      "text/html": [
       "<div>\n",
       "<style>\n",
       "    .dataframe thead tr:only-child th {\n",
       "        text-align: right;\n",
       "    }\n",
       "\n",
       "    .dataframe thead th {\n",
       "        text-align: left;\n",
       "    }\n",
       "\n",
       "    .dataframe tbody tr th {\n",
       "        vertical-align: top;\n",
       "    }\n",
       "</style>\n",
       "<table border=\"1\" class=\"dataframe\">\n",
       "  <thead>\n",
       "    <tr style=\"text-align: right;\">\n",
       "      <th></th>\n",
       "      <th>Most Common Street Types</th>\n",
       "      <th>Number of Times</th>\n",
       "    </tr>\n",
       "    <tr>\n",
       "      <th>STREET TYPE_y</th>\n",
       "      <th></th>\n",
       "      <th></th>\n",
       "    </tr>\n",
       "  </thead>\n",
       "  <tbody>\n",
       "    <tr>\n",
       "      <th>AVE</th>\n",
       "      <td>AVENUE</td>\n",
       "      <td>163</td>\n",
       "    </tr>\n",
       "    <tr>\n",
       "      <th>BOULEARD</th>\n",
       "      <td>BLVD</td>\n",
       "      <td>1</td>\n",
       "    </tr>\n",
       "    <tr>\n",
       "      <th>BULEVARD</th>\n",
       "      <td>BLVD</td>\n",
       "      <td>1</td>\n",
       "    </tr>\n",
       "    <tr>\n",
       "      <th>PL</th>\n",
       "      <td>PLACE</td>\n",
       "      <td>3</td>\n",
       "    </tr>\n",
       "    <tr>\n",
       "      <th>RD</th>\n",
       "      <td>ROAD</td>\n",
       "      <td>16</td>\n",
       "    </tr>\n",
       "    <tr>\n",
       "      <th>ST</th>\n",
       "      <td>STREET</td>\n",
       "      <td>94</td>\n",
       "    </tr>\n",
       "  </tbody>\n",
       "</table>\n",
       "</div>"
      ],
      "text/plain": [
       "              Most Common Street Types   Number of Times \n",
       "STREET TYPE_y                                            \n",
       "AVE                              AVENUE               163\n",
       "BOULEARD                           BLVD                 1\n",
       "BULEVARD                           BLVD                 1\n",
       "PL                                PLACE                 3\n",
       "RD                                 ROAD                16\n",
       "ST                               STREET                94"
      ]
     },
     "execution_count": 16,
     "metadata": {},
     "output_type": "execute_result"
    }
   ],
   "source": [
    "df['STREET TYPE'] = df['STREET'].str.split().str[-1]\n",
    "df['STREET BASE'] = df['STREET'].str.split().str[:-1].apply(lambda l: \" \".join(l))\n",
    "df['STREET BASE & ZIP'] = df['STREET BASE'] + \" \" + df['ZIPCODE']\n",
    "\n",
    "new_df = df[['STREET TYPE', 'STREET BASE', 'STREET BASE & ZIP']].drop_duplicates()\n",
    "drop_empties = new_df != \"\"\n",
    "new_df_clean = new_df[drop_empties]\n",
    "\n",
    "new_df_merged = new_df_clean.merge(new_df_clean, left_on = 'STREET BASE & ZIP', right_on = 'STREET BASE & ZIP')\n",
    "mask_diff = new_df_merged['STREET TYPE_x'] != new_df_merged['STREET TYPE_y']\n",
    "new_df_diff = new_df_merged[mask_diff]\n",
    "\n",
    "st_cross_tab = pd.crosstab(new_df_diff['STREET TYPE_x'], new_df_diff['STREET TYPE_y'])\n",
    "\n",
    "common_st = pd.DataFrame({'Most Common Street Types ': st_cross_tab.idxmax(), 'Number of Times ': st_cross_tab.max()})\n",
    "st_names = ['AVE', 'ST', 'RD', 'PL', 'BOULEARD', 'BULEVARD']\n",
    "\n",
    "misspelled = common_st[common_st.index.isin(st_names)]\n",
    "print \"The most common street types and the number of times they are misspelled are shown in the data frame below.\"\n",
    "misspelled"
   ]
  },
  {
   "cell_type": "code",
   "execution_count": null,
   "metadata": {
    "collapsed": true
   },
   "outputs": [],
   "source": []
  }
 ],
 "metadata": {
  "kernelspec": {
   "display_name": "Python 2",
   "language": "python",
   "name": "python2"
  },
  "language_info": {
   "codemirror_mode": {
    "name": "ipython",
    "version": 2
   },
   "file_extension": ".py",
   "mimetype": "text/x-python",
   "name": "python",
   "nbconvert_exporter": "python",
   "pygments_lexer": "ipython2",
   "version": "2.7.13"
  }
 },
 "nbformat": 4,
 "nbformat_minor": 2
}
